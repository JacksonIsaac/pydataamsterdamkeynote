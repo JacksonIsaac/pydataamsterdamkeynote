{
 "cells": [
  {
   "cell_type": "code",
   "execution_count": 1,
   "metadata": {
    "collapsed": true
   },
   "outputs": [],
   "source": [
    "import ibis\n",
    "ibis.options.interactive = True\n",
    "\n",
    "con = ibis.sqlite.connect('data/veekun-pokedex.sqlite')\n"
   ]
  },
  {
   "cell_type": "code",
   "execution_count": 2,
   "metadata": {
    "collapsed": false
   },
   "outputs": [
    {
     "data": {
      "text/plain": [
       "<ibis.sql.sqlite.client.SQLiteClient at 0x10709f390>"
      ]
     },
     "execution_count": 2,
     "metadata": {},
     "output_type": "execute_result"
    }
   ],
   "source": [
    "con"
   ]
  },
  {
   "cell_type": "code",
   "execution_count": 3,
   "metadata": {
    "collapsed": false
   },
   "outputs": [
    {
     "data": {
      "text/plain": [
       "['abilities',\n",
       " 'ability_changelog',\n",
       " 'ability_changelog_prose',\n",
       " 'ability_flavor_text',\n",
       " 'ability_names',\n",
       " 'ability_prose',\n",
       " 'berries',\n",
       " 'berry_firmness',\n",
       " 'berry_firmness_names',\n",
       " 'berry_flavors',\n",
       " 'conquest_episode_names',\n",
       " 'conquest_episode_warriors',\n",
       " 'conquest_episodes',\n",
       " 'conquest_kingdom_names',\n",
       " 'conquest_kingdoms',\n",
       " 'conquest_max_links',\n",
       " 'conquest_move_data',\n",
       " 'conquest_move_displacement_prose',\n",
       " 'conquest_move_displacements',\n",
       " 'conquest_move_effect_prose',\n",
       " 'conquest_move_effects',\n",
       " 'conquest_move_range_prose',\n",
       " 'conquest_move_ranges',\n",
       " 'conquest_pokemon_abilities',\n",
       " 'conquest_pokemon_evolution',\n",
       " 'conquest_pokemon_moves',\n",
       " 'conquest_pokemon_stats',\n",
       " 'conquest_stat_names',\n",
       " 'conquest_stats',\n",
       " 'conquest_transformation_pokemon',\n",
       " 'conquest_transformation_warriors',\n",
       " 'conquest_warrior_archetypes',\n",
       " 'conquest_warrior_names',\n",
       " 'conquest_warrior_rank_stat_map',\n",
       " 'conquest_warrior_ranks',\n",
       " 'conquest_warrior_skill_names',\n",
       " 'conquest_warrior_skills',\n",
       " 'conquest_warrior_specialties',\n",
       " 'conquest_warrior_stat_names',\n",
       " 'conquest_warrior_stats',\n",
       " 'conquest_warrior_transformation',\n",
       " 'conquest_warriors',\n",
       " 'contest_combos',\n",
       " 'contest_effect_prose',\n",
       " 'contest_effects',\n",
       " 'contest_type_names',\n",
       " 'contest_types',\n",
       " 'egg_group_prose',\n",
       " 'egg_groups',\n",
       " 'encounter_condition_prose',\n",
       " 'encounter_condition_value_map',\n",
       " 'encounter_condition_value_prose',\n",
       " 'encounter_condition_values',\n",
       " 'encounter_conditions',\n",
       " 'encounter_method_prose',\n",
       " 'encounter_methods',\n",
       " 'encounter_slots',\n",
       " 'encounters',\n",
       " 'evolution_chains',\n",
       " 'evolution_trigger_prose',\n",
       " 'evolution_triggers',\n",
       " 'experience',\n",
       " 'genders',\n",
       " 'generation_names',\n",
       " 'generations',\n",
       " 'growth_rate_prose',\n",
       " 'growth_rates',\n",
       " 'item_categories',\n",
       " 'item_category_prose',\n",
       " 'item_flag_map',\n",
       " 'item_flag_prose',\n",
       " 'item_flags',\n",
       " 'item_flavor_summaries',\n",
       " 'item_flavor_text',\n",
       " 'item_fling_effect_prose',\n",
       " 'item_fling_effects',\n",
       " 'item_game_indices',\n",
       " 'item_names',\n",
       " 'item_pocket_names',\n",
       " 'item_pockets',\n",
       " 'item_prose',\n",
       " 'items',\n",
       " 'language_names',\n",
       " 'languages',\n",
       " 'location_area_encounter_rates',\n",
       " 'location_area_prose',\n",
       " 'location_areas',\n",
       " 'location_game_indices',\n",
       " 'location_names',\n",
       " 'locations',\n",
       " 'machines',\n",
       " 'move_battle_style_prose',\n",
       " 'move_battle_styles',\n",
       " 'move_changelog',\n",
       " 'move_damage_class_prose',\n",
       " 'move_damage_classes',\n",
       " 'move_effect_changelog',\n",
       " 'move_effect_changelog_prose',\n",
       " 'move_effect_prose',\n",
       " 'move_effects',\n",
       " 'move_flag_map',\n",
       " 'move_flag_prose',\n",
       " 'move_flags',\n",
       " 'move_flavor_summaries',\n",
       " 'move_flavor_text',\n",
       " 'move_meta',\n",
       " 'move_meta_ailment_names',\n",
       " 'move_meta_ailments',\n",
       " 'move_meta_categories',\n",
       " 'move_meta_category_prose',\n",
       " 'move_meta_stat_changes',\n",
       " 'move_names',\n",
       " 'move_target_prose',\n",
       " 'move_targets',\n",
       " 'moves',\n",
       " 'nature_battle_style_preferences',\n",
       " 'nature_names',\n",
       " 'nature_pokeathlon_stats',\n",
       " 'natures',\n",
       " 'pal_park',\n",
       " 'pal_park_area_names',\n",
       " 'pal_park_areas',\n",
       " 'pokeathlon_stat_names',\n",
       " 'pokeathlon_stats',\n",
       " 'pokedex_prose',\n",
       " 'pokedex_version_groups',\n",
       " 'pokedexes',\n",
       " 'pokemon',\n",
       " 'pokemon_abilities',\n",
       " 'pokemon_color_names',\n",
       " 'pokemon_colors',\n",
       " 'pokemon_dex_numbers',\n",
       " 'pokemon_egg_groups',\n",
       " 'pokemon_evolution',\n",
       " 'pokemon_form_generations',\n",
       " 'pokemon_form_names',\n",
       " 'pokemon_form_pokeathlon_stats',\n",
       " 'pokemon_forms',\n",
       " 'pokemon_game_indices',\n",
       " 'pokemon_habitat_names',\n",
       " 'pokemon_habitats',\n",
       " 'pokemon_items',\n",
       " 'pokemon_move_method_prose',\n",
       " 'pokemon_move_methods',\n",
       " 'pokemon_moves',\n",
       " 'pokemon_shape_prose',\n",
       " 'pokemon_shapes',\n",
       " 'pokemon_species',\n",
       " 'pokemon_species_flavor_summaries',\n",
       " 'pokemon_species_flavor_text',\n",
       " 'pokemon_species_names',\n",
       " 'pokemon_species_prose',\n",
       " 'pokemon_stats',\n",
       " 'pokemon_types',\n",
       " 'region_names',\n",
       " 'regions',\n",
       " 'stat_hint_names',\n",
       " 'stat_hints',\n",
       " 'stat_names',\n",
       " 'stats',\n",
       " 'super_contest_combos',\n",
       " 'super_contest_effect_prose',\n",
       " 'super_contest_effects',\n",
       " 'type_efficacy',\n",
       " 'type_game_indices',\n",
       " 'type_names',\n",
       " 'types',\n",
       " 'version_group_pokemon_move_methods',\n",
       " 'version_group_regions',\n",
       " 'version_groups',\n",
       " 'version_names',\n",
       " 'versions']"
      ]
     },
     "execution_count": 3,
     "metadata": {},
     "output_type": "execute_result"
    }
   ],
   "source": [
    "con.list_tables()"
   ]
  },
  {
   "cell_type": "markdown",
   "metadata": {},
   "source": [
    "Let's look at pokemon type table"
   ]
  },
  {
   "cell_type": "code",
   "execution_count": 4,
   "metadata": {
    "collapsed": false
   },
   "outputs": [
    {
     "name": "stdout",
     "output_type": "stream",
     "text": [
      "Table rows: 1179\n",
      "\n",
      "Column      Type                 Non-null #\n",
      "------      ----                 ----------\n",
      "pokemon_id  int64[non-nullable]  1179      \n",
      "type_id     int64[non-nullable]  1179      \n",
      "slot        int64[non-nullable]  1179      "
     ]
    }
   ],
   "source": [
    "\n",
    "rounds = con.table('pokemon_types')\n",
    "rounds.info()"
   ]
  },
  {
   "cell_type": "markdown",
   "metadata": {
    "collapsed": true
   },
   "source": [
    "Let's do some exploration'"
   ]
  },
  {
   "cell_type": "code",
   "execution_count": 5,
   "metadata": {
    "collapsed": false
   },
   "outputs": [
    {
     "data": {
      "text/plain": [
       "   slot  count\n",
       "0     1    784\n",
       "1     2    395"
      ]
     },
     "execution_count": 5,
     "metadata": {},
     "output_type": "execute_result"
    }
   ],
   "source": [
    "rounds.slot.value_counts()"
   ]
  },
  {
   "cell_type": "code",
   "execution_count": 6,
   "metadata": {
    "collapsed": false
   },
   "outputs": [
    {
     "data": {
      "text/plain": [
       "     pokemon_id  count\n",
       "0             1      2\n",
       "1             2      2\n",
       "2             3      2\n",
       "3             4      1\n",
       "4             5      1\n",
       "5             6      2\n",
       "6             7      1\n",
       "7             8      1\n",
       "8             9      1\n",
       "9            10      1\n",
       "10           11      1\n",
       "11           12      2\n",
       "12           13      2\n",
       "13           14      2\n",
       "14           15      2\n",
       "15           16      2\n",
       "16           17      2\n",
       "17           18      2\n",
       "18           19      1\n",
       "19           20      1\n",
       "20           21      2\n",
       "21           22      2\n",
       "22           23      1\n",
       "23           24      1\n",
       "24           25      1\n",
       "25           26      1\n",
       "26           27      1\n",
       "27           28      1\n",
       "28           29      1\n",
       "29           30      1\n",
       "..          ...    ...\n",
       "754       10034      2\n",
       "755       10035      2\n",
       "756       10036      1\n",
       "757       10037      1\n",
       "758       10038      2\n",
       "759       10039      1\n",
       "760       10040      2\n",
       "761       10041      2\n",
       "762       10042      2\n",
       "763       10043      2\n",
       "764       10044      1\n",
       "765       10045      2\n",
       "766       10046      2\n",
       "767       10047      2\n",
       "768       10048      2\n",
       "769       10049      2\n",
       "770       10050      2\n",
       "771       10051      2\n",
       "772       10052      2\n",
       "773       10053      1\n",
       "774       10054      2\n",
       "775       10055      1\n",
       "776       10056      1\n",
       "777       10057      1\n",
       "778       10058      2\n",
       "779       10059      2\n",
       "780       10060      2\n",
       "781       10061      1\n",
       "782       10062      2\n",
       "783       10063      2\n",
       "\n",
       "[784 rows x 2 columns]"
      ]
     },
     "execution_count": 6,
     "metadata": {},
     "output_type": "execute_result"
    }
   ],
   "source": [
    "rounds.pokemon_id.value_counts()"
   ]
  },
  {
   "cell_type": "code",
   "execution_count": null,
   "metadata": {
    "collapsed": true
   },
   "outputs": [],
   "source": []
  },
  {
   "cell_type": "code",
   "execution_count": null,
   "metadata": {
    "collapsed": true
   },
   "outputs": [],
   "source": []
  }
 ],
 "metadata": {
  "kernelspec": {
   "display_name": "Python 3",
   "language": "python",
   "name": "python3"
  },
  "language_info": {
   "codemirror_mode": {
    "name": "ipython",
    "version": 3
   },
   "file_extension": ".py",
   "mimetype": "text/x-python",
   "name": "python",
   "nbconvert_exporter": "python",
   "pygments_lexer": "ipython3",
   "version": "3.4.4"
  }
 },
 "nbformat": 4,
 "nbformat_minor": 0
}
